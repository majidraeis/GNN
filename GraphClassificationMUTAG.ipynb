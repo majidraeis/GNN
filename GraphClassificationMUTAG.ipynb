{
  "nbformat": 4,
  "nbformat_minor": 0,
  "metadata": {
    "colab": {
      "provenance": [],
      "authorship_tag": "ABX9TyNMVfU4Fr9JuCHJbyGCyBDQ"
    },
    "kernelspec": {
      "name": "python3",
      "display_name": "Python 3"
    },
    "language_info": {
      "name": "python"
    }
  },
  "cells": [
    {
      "cell_type": "markdown",
      "source": [
        "#Graph classification on the MUTAG dataset:\n",
        "In this notebook we perform graph classification on the MUTAG dataset using a Graph Neural Network (GNN) in PyTorch Geometric.\n",
        "\n",
        "**Outcome:** We aim to build a model that can classify graphs based on their structural properties and node features, specifically identifying whether a given graph (representing a chemical compound) is mutagenic or not.\n",
        "\n",
        "**Dataset:** The MUTAG dataset is a collection of graphs where each graph represents a chemical compound. Each graph is labeled as either mutagenic (causing genetic mutations) or non-mutagenic. The task is to classify these graphs correctly."
      ],
      "metadata": {
        "id": "PbeGIj8Rofoc"
      }
    },
    {
      "cell_type": "code",
      "source": [
        "!pip install torch-geometric --quiet"
      ],
      "metadata": {
        "id": "TCXl9F0Mk5W6"
      },
      "execution_count": 26,
      "outputs": []
    },
    {
      "cell_type": "code",
      "source": [
        "import torch\n",
        "import torch.nn.functional as F\n",
        "from torch_geometric.loader import DataLoader\n",
        "from torch_geometric.datasets import TUDataset\n",
        "from torch_geometric.nn import GCNConv, global_mean_pool\n",
        "\n",
        "import networkx as nx\n",
        "import matplotlib.pyplot as plt\n",
        "from torch_geometric.utils import to_networkx"
      ],
      "metadata": {
        "id": "-seGX45lxD-y"
      },
      "execution_count": 22,
      "outputs": []
    },
    {
      "cell_type": "markdown",
      "source": [
        "### Load Dataset"
      ],
      "metadata": {
        "id": "pgzxMmAeytur"
      }
    },
    {
      "cell_type": "code",
      "source": [
        "# Load the dataset\n",
        "dataset = TUDataset(root='/tmp/MUTAG', name='MUTAG')\n",
        "\n",
        "# Split the dataset into train and test sets\n",
        "train_dataset = dataset[:150]\n",
        "test_dataset = dataset[150:]\n",
        "\n",
        "# Create data loaders\n",
        "train_loader = DataLoader(train_dataset, batch_size=32, shuffle=True)\n",
        "test_loader = DataLoader(test_dataset, batch_size=32, shuffle=False)"
      ],
      "metadata": {
        "id": "lpnPIo463tsF"
      },
      "execution_count": 23,
      "outputs": []
    },
    {
      "cell_type": "markdown",
      "source": [
        "Let's look at the first graph of the dataset."
      ],
      "metadata": {
        "id": "5_dhKbqosqbB"
      }
    },
    {
      "cell_type": "code",
      "source": [
        "dataset[0]"
      ],
      "metadata": {
        "colab": {
          "base_uri": "https://localhost:8080/"
        },
        "id": "wiXGZ37346ST",
        "outputId": "d4065b46-c229-4dbb-ef55-dd5248e6da11"
      },
      "execution_count": 24,
      "outputs": [
        {
          "output_type": "execute_result",
          "data": {
            "text/plain": [
              "Data(edge_index=[2, 38], x=[17, 7], edge_attr=[38, 4], y=[1])"
            ]
          },
          "metadata": {},
          "execution_count": 24
        }
      ]
    },
    {
      "cell_type": "code",
      "source": [
        "# Function to plot a single graph\n",
        "def plot_graph(data, figsize=(5, 3)):\n",
        "    plt.figure(figsize=figsize)\n",
        "    G = to_networkx(data, to_undirected=True)\n",
        "    nx.draw(G, with_labels=True, node_color='lightblue', node_size=100, edge_color='gray')\n",
        "    plt.show()\n",
        "\n",
        "# Plot the first three graphs in the dataset\n",
        "plot_graph(dataset[0])"
      ],
      "metadata": {
        "colab": {
          "base_uri": "https://localhost:8080/",
          "height": 337
        },
        "id": "qdD0ewNGlFnb",
        "outputId": "c29f9155-a1dc-44c5-bc0e-20e0bd4d051d"
      },
      "execution_count": 56,
      "outputs": [
        {
          "output_type": "display_data",
          "data": {
            "text/plain": [
              "<Figure size 500x300 with 1 Axes>"
            ],
            "image/png": "[encoded data removed]"
          },
          "metadata": {}
        }
      ]
    },
    {
      "cell_type": "markdown",
      "source": [
        "Now, let's see what does a sample batch with size 4 look like."
      ],
      "metadata": {
        "id": "KFyUtMwFsDnK"
      }
    },
    {
      "cell_type": "code",
      "source": [
        "sample_loader = DataLoader(train_dataset, batch_size=4, shuffle=True)\n",
        "batch = next(iter(sample_loader))\n",
        "batch"
      ],
      "metadata": {
        "colab": {
          "base_uri": "https://localhost:8080/"
        },
        "id": "AOteenvjpJXQ",
        "outputId": "6d5f8637-eb1c-4242-801f-f15cea6b0739"
      },
      "execution_count": 53,
      "outputs": [
        {
          "output_type": "execute_result",
          "data": {
            "text/plain": [
              "DataBatch(edge_index=[2, 172], x=[76, 7], edge_attr=[172, 4], y=[4], batch=[76], ptr=[5])"
            ]
          },
          "metadata": {},
          "execution_count": 53
        }
      ]
    },
    {
      "cell_type": "code",
      "source": [
        "batch.batch"
      ],
      "metadata": {
        "colab": {
          "base_uri": "https://localhost:8080/"
        },
        "id": "4E7-jc4vqjlo",
        "outputId": "94710ad3-fb40-4c9a-ce7f-fa52fd44ac1e"
      },
      "execution_count": 54,
      "outputs": [
        {
          "output_type": "execute_result",
          "data": {
            "text/plain": [
              "tensor([0, 0, 0, 0, 0, 0, 0, 0, 0, 0, 0, 1, 1, 1, 1, 1, 1, 1, 1, 1, 1, 1, 1, 1,\n",
              "        1, 1, 1, 1, 1, 1, 1, 1, 1, 1, 1, 1, 2, 2, 2, 2, 2, 2, 2, 2, 2, 2, 2, 2,\n",
              "        2, 2, 2, 2, 2, 2, 2, 2, 2, 2, 2, 3, 3, 3, 3, 3, 3, 3, 3, 3, 3, 3, 3, 3,\n",
              "        3, 3, 3, 3])"
            ]
          },
          "metadata": {},
          "execution_count": 54
        }
      ]
    },
    {
      "cell_type": "code",
      "source": [
        "plot_graph(batch)"
      ],
      "metadata": {
        "colab": {
          "base_uri": "https://localhost:8080/",
          "height": 337
        },
        "id": "nQUdsRXSrLtJ",
        "outputId": "0b16cf34-f834-4754-b6c4-97d44d77f260"
      },
      "execution_count": 58,
      "outputs": [
        {
          "output_type": "display_data",
          "data": {
            "text/plain": [
              "<Figure size 500x300 with 1 Axes>"
            ],
            "image/png": "[encoded data removed]"
          },
          "metadata": {}
        }
      ]
    },
    {
      "cell_type": "markdown",
      "source": [
        "### Model Definition"
      ],
      "metadata": {
        "id": "JBfXDtfbscKo"
      }
    },
    {
      "cell_type": "code",
      "source": [
        "class GCN(torch.nn.Module):\n",
        "    def __init__(self, num_features, num_classes):\n",
        "        super(GCN, self).__init__()\n",
        "        self.conv1 = GCNConv(num_features, 64)\n",
        "        self.conv2 = GCNConv(64, 64)\n",
        "        self.fc = torch.nn.Linear(64, num_classes)\n",
        "\n",
        "    def forward(self, data):\n",
        "        x, edge_index, batch = data.x, data.edge_index, data.batch\n",
        "\n",
        "        x = F.relu(self.conv1(x, edge_index))\n",
        "        x = F.relu(self.conv2(x, edge_index))\n",
        "\n",
        "        # Global mean pooling\n",
        "        x = global_mean_pool(x, batch)\n",
        "\n",
        "        x = self.fc(x)\n",
        "\n",
        "        return F.log_softmax(x, dim=1)"
      ],
      "metadata": {
        "id": "T1Ug5wMksUhD"
      },
      "execution_count": 60,
      "outputs": []
    },
    {
      "cell_type": "markdown",
      "source": [
        "In PyTorch Geometric, the function **global_mean_pool(x, batch)** is used to perform global mean pooling on graph-level representations. This operation aggregates node features into a single graph-level feature vector by taking the mean of the node features for each graph in a batch.\n",
        "\n",
        "Explanation\n",
        "\n",
        "\n",
        "\n",
        "*   **x:** This is the node feature matrix of shape [num_nodes, num_features]. Each row represents the features of a node.\n",
        "*   **batch:** This is a vector of shape [num_nodes] where each entry indicates the graph to which the corresponding node belongs. It essentially acts as an index mapping each node to a specific graph in the batch.\n",
        "\n",
        "\n",
        "\n",
        "\n"
      ],
      "metadata": {
        "id": "UqHjKrfBsa55"
      }
    },
    {
      "cell_type": "markdown",
      "source": [
        "### Training"
      ],
      "metadata": {
        "id": "-DVzSodMy5EW"
      }
    },
    {
      "cell_type": "code",
      "source": [
        "device = torch.device('cuda' if torch.cuda.is_available() else 'cpu')\n",
        "model = GCN(dataset.num_features, dataset.num_classes).to(device)\n",
        "optimizer = torch.optim.Adam(model.parameters(), lr=0.01)\n",
        "\n",
        "def train():\n",
        "    model.train()\n",
        "    total_loss = 0\n",
        "    for data in train_loader:\n",
        "        data = data.to(device)\n",
        "        optimizer.zero_grad()\n",
        "        out = model(data)\n",
        "        loss = F.nll_loss(out, data.y)\n",
        "        loss.backward()\n",
        "        total_loss += loss.item()\n",
        "        optimizer.step()\n",
        "    return total_loss / len(train_loader)\n",
        "\n",
        "def test(loader):\n",
        "    model.eval()\n",
        "    correct = 0\n",
        "    for data in loader:\n",
        "        data = data.to(device)\n",
        "        out = model(data)\n",
        "        pred = out.max(dim=1)[1]\n",
        "        correct += pred.eq(data.y).sum().item()\n",
        "    return correct / len(loader.dataset)\n",
        "\n",
        "for epoch in range(1, 501):\n",
        "    loss = train()\n",
        "    train_acc = test(train_loader)\n",
        "    test_acc = test(test_loader)\n",
        "    if epoch % 50 == 0:\n",
        "      print(f'Epoch: {epoch:03d}, Loss: {loss:.4f}, Train Acc: {train_acc:.4f}, Test Acc: {test_acc:.4f}')"
      ],
      "metadata": {
        "colab": {
          "base_uri": "https://localhost:8080/"
        },
        "id": "EFnbW6cl8OaM",
        "outputId": "299bcb0c-04ce-4059-c9b7-a252470f0bee"
      },
      "execution_count": 61,
      "outputs": [
        {
          "output_type": "stream",
          "name": "stdout",
          "text": [
            "Epoch: 050, Loss: 0.4527, Train Acc: 0.7733, Test Acc: 0.6842\n",
            "Epoch: 100, Loss: 0.4594, Train Acc: 0.7933, Test Acc: 0.6842\n",
            "Epoch: 150, Loss: 0.4357, Train Acc: 0.8333, Test Acc: 0.6842\n",
            "Epoch: 200, Loss: 0.4206, Train Acc: 0.8200, Test Acc: 0.6842\n",
            "Epoch: 250, Loss: 0.4267, Train Acc: 0.8333, Test Acc: 0.7105\n",
            "Epoch: 300, Loss: 0.4212, Train Acc: 0.8333, Test Acc: 0.7368\n",
            "Epoch: 350, Loss: 0.4106, Train Acc: 0.8400, Test Acc: 0.7368\n",
            "Epoch: 400, Loss: 0.4137, Train Acc: 0.8333, Test Acc: 0.7632\n",
            "Epoch: 450, Loss: 0.4107, Train Acc: 0.8400, Test Acc: 0.7368\n",
            "Epoch: 500, Loss: 0.4070, Train Acc: 0.8533, Test Acc: 0.7368\n"
          ]
        }
      ]
    },
    {
      "cell_type": "markdown",
      "source": [
        "### Evaluation"
      ],
      "metadata": {
        "id": "sQeKo4R7y-UJ"
      }
    },
    {
      "cell_type": "code",
      "source": [
        "test_acc = test(test_loader)\n",
        "print(f'Test Accuracy: {test_acc:.4f}')\n"
      ],
      "metadata": {
        "colab": {
          "base_uri": "https://localhost:8080/"
        },
        "id": "RfYC0DIb8S2B",
        "outputId": "d56cac7f-e9f8-4d74-9cc4-7e6305f877b6"
      },
      "execution_count": 62,
      "outputs": [
        {
          "output_type": "stream",
          "name": "stdout",
          "text": [
            "Test Accuracy: 0.7368\n"
          ]
        }
      ]
    },
    {
      "cell_type": "markdown",
      "source": [
        "## Graph Attention Networks\n",
        "\n",
        "### Model Definition\n",
        "Now let's use GAT instead of simple GCN and see how it can improve the accuracy."
      ],
      "metadata": {
        "id": "-eOxwheCx7ei"
      }
    },
    {
      "cell_type": "code",
      "source": [
        "import torch\n",
        "import torch.nn.functional as F\n",
        "from torch_geometric.nn import GATConv, global_mean_pool\n",
        "\n",
        "\n",
        "class GAT(torch.nn.Module):\n",
        "    def __init__(self, num_features, num_classes, num_heads):\n",
        "        super(GAT, self).__init__()\n",
        "        self.conv1 = GATConv(num_features, 64, heads=num_heads, concat=True)\n",
        "        self.conv2 = GATConv(64 * num_heads, 64, heads=num_heads, concat=True)\n",
        "        self.fc = torch.nn.Linear(64 * num_heads, num_classes)\n",
        "\n",
        "    def forward(self, data):\n",
        "        x, edge_index, batch = data.x, data.edge_index, data.batch\n",
        "\n",
        "        x = F.relu(self.conv1(x, edge_index))\n",
        "        x = F.relu(self.conv2(x, edge_index))\n",
        "\n",
        "        x = global_mean_pool(x, batch)\n",
        "\n",
        "        x = self.fc(x)\n",
        "        return F.log_softmax(x, dim=1)"
      ],
      "metadata": {
        "id": "P-uhP2Rfubqc"
      },
      "execution_count": 74,
      "outputs": []
    },
    {
      "cell_type": "markdown",
      "source": [
        "### Training"
      ],
      "metadata": {
        "id": "kPtUaUUxzGt4"
      }
    },
    {
      "cell_type": "code",
      "source": [
        "num_heads = 2  # Number of attention heads\n",
        "device = torch.device('cuda' if torch.cuda.is_available() else 'cpu')\n",
        "model = GAT(dataset.num_features, dataset.num_classes, num_heads)\n",
        "optimizer = torch.optim.Adam(model.parameters(), lr=0.01)\n",
        "\n",
        "# Training function\n",
        "def train():\n",
        "    model.train()\n",
        "    total_loss = 0\n",
        "    for data in train_loader:\n",
        "        data = data.to(device)\n",
        "        optimizer.zero_grad()\n",
        "        out = model(data)\n",
        "        loss = F.nll_loss(out, data.y)\n",
        "        loss.backward()\n",
        "        total_loss += loss.item()\n",
        "        optimizer.step()\n",
        "    return total_loss / len(train_loader)\n",
        "\n",
        "# Test function\n",
        "def test(loader):\n",
        "    model.eval()\n",
        "    correct = 0\n",
        "    for data in loader:\n",
        "        data = data.to(device)\n",
        "        out = model(data)\n",
        "        pred = out.max(dim=1)[1]\n",
        "        correct += pred.eq(data.y).sum().item()\n",
        "    return correct / len(loader.dataset)\n",
        "\n",
        "# Train and test the model\n",
        "for epoch in range(1, 501):\n",
        "    loss = train()\n",
        "    train_acc = test(train_loader)\n",
        "    test_acc = test(test_loader)\n",
        "    if epoch % 50 == 0:\n",
        "        print(f'Epoch: {epoch:03d}, Loss: {loss:.4f}, Train Acc: {train_acc:.4f}, Test Acc: {test_acc:.4f}')"
      ],
      "metadata": {
        "colab": {
          "base_uri": "https://localhost:8080/"
        },
        "id": "q1ylFJrGuo7b",
        "outputId": "8b2943dc-b33a-4a2f-ca66-e4cbc2a4c6be"
      },
      "execution_count": 75,
      "outputs": [
        {
          "output_type": "stream",
          "name": "stdout",
          "text": [
            "Epoch: 050, Loss: 0.4680, Train Acc: 0.8067, Test Acc: 0.7368\n",
            "Epoch: 100, Loss: 0.4637, Train Acc: 0.7800, Test Acc: 0.7105\n",
            "Epoch: 150, Loss: 0.4172, Train Acc: 0.8467, Test Acc: 0.7895\n",
            "Epoch: 200, Loss: 0.4075, Train Acc: 0.8400, Test Acc: 0.7895\n",
            "Epoch: 250, Loss: 0.3936, Train Acc: 0.8533, Test Acc: 0.7895\n",
            "Epoch: 300, Loss: 0.4296, Train Acc: 0.8333, Test Acc: 0.7895\n",
            "Epoch: 350, Loss: 0.4056, Train Acc: 0.8533, Test Acc: 0.7895\n",
            "Epoch: 400, Loss: 0.3952, Train Acc: 0.8467, Test Acc: 0.7895\n",
            "Epoch: 450, Loss: 0.4018, Train Acc: 0.8533, Test Acc: 0.7895\n",
            "Epoch: 500, Loss: 0.3941, Train Acc: 0.8533, Test Acc: 0.7895\n"
          ]
        }
      ]
    },
    {
      "cell_type": "markdown",
      "source": [
        "### Evaluation"
      ],
      "metadata": {
        "id": "9AhwVRo0zIwc"
      }
    },
    {
      "cell_type": "code",
      "source": [
        "test_acc = test(test_loader)\n",
        "print(f'Test Accuracy: {test_acc:.4f}')"
      ],
      "metadata": {
        "colab": {
          "base_uri": "https://localhost:8080/"
        },
        "id": "AtejxKRVu0SW",
        "outputId": "116063d7-4a22-4cc4-e148-34a7f94a4143"
      },
      "execution_count": 76,
      "outputs": [
        {
          "output_type": "stream",
          "name": "stdout",
          "text": [
            "Test Accuracy: 0.7895\n"
          ]
        }
      ]
    },
    {
      "cell_type": "markdown",
      "source": [
        "We see that the accuracy has improved using GAT compared to the previous model architecture. This improvement can be attributed to the enhanced capability of GAT to capture more complex graph structures and dependencies through its attention mechanism. By allowing nodes to selectively attend to their neighbors, GAT can effectively aggregate information from neighboring nodes while considering their importance, leading to more informative node representations."
      ],
      "metadata": {
        "id": "xcOB_hEzyQp2"
      }
    }
  ]
}